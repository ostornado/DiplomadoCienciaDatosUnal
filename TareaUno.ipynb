{
 "cells": [
  {
   "cell_type": "code",
   "execution_count": 3,
   "id": "54953177-e3e1-4a2b-810a-2be405d2089e",
   "metadata": {
    "tags": []
   },
   "outputs": [],
   "source": [
    "# 1.1 Métodos robustos y resistentes en Análisis de Información "
   ]
  },
  {
   "cell_type": "markdown",
   "id": "d797b36c-86ad-4c82-8067-45cdcf0e9e6a",
   "metadata": {},
   "source": [
    "## 1.2 Python \n",
    "<img src = 'LogoPython.png'>"
   ]
  },
  {
   "cell_type": "markdown",
   "id": "07673c89-391c-45b1-b245-dbd68f182308",
   "metadata": {},
   "source": [
    "1.3  __Autor__\n",
    "\n",
    "   __Oscar__ __Rodriguez__\n",
    "\n",
    "   Ingeniero electrónico"
   ]
  },
  {
   "cell_type": "code",
   "execution_count": null,
   "id": "0c6a8d29-a49c-41d3-b1ab-519326791934",
   "metadata": {},
   "outputs": [],
   "source": [
    "<img src = 'oscar.png'>\n"
   ]
  },
  {
   "cell_type": "markdown",
   "id": "857e7f85-fc8e-4681-9b15-a0bf99f2c261",
   "metadata": {},
   "source": [
    "Mi nombre es Oscar Rodriguez, soy ingeniero electrónico de profesión y actualmente me encuentro realizando la maestría en meteorología y el diplomado en ciencia de datos en la Universidad Nacional de Colombia.\n",
    "En la maestría y el diplomado el enfoque que buscó implementar es obtención de información atmosférica de modelos con datos de reanálisis, estaciones meteorológicas en las zonas a estudiar, análisis de informaciòn obtenida e implementaciòn de una herramienta en tiempo real y soportada por una aplicaciòn web para el uso de cultivadores de arroz de los departamentos de Huila, Tolima y Meta .\n",
    "Cuento con conocimiento en  obtención, manipulación y control de datos meteorológicos, en Excel,Rclidex, R, Rstudio, además cuento con conocimientos en instrumentación para recolección de información meteorológica, con habilidades  en telemática y redes. \n"
   ]
  },
  {
   "cell_type": "code",
   "execution_count": null,
   "id": "f5bb9e90-92b4-41d8-bb33-747b5271c982",
   "metadata": {},
   "outputs": [],
   "source": [
    "1.4 __Métodos robustos y resistentes en Análisis de Informaciòn__\n",
    "\n",
    "Se emplea  metodología gráfica que contribuye a entender un “Mar” de información, números datos a los que se enfrenta el analista.\n",
    "Las gráficas tienen el alcance de representar circunstancias inusuales, que podrían ser errores en el registro  o en la transcripción de la información.\n",
    "Estos datos anómalos válidos podrían representar información importante en el conjunto de datos.\n",
    "\n",
    "__Métodos robustos__\n",
    "Este método no tiene sensibilidad a datos particulares sobre la variable de estudio. \n",
    "Un ejemplo de esto es el promedio o media aritmética la cual caracteriza el valor central de una muestra de datos, aunque se debe recalcar que si la distribución de la muestra no sigue una distribución gaussiana no es una buena representación."
   ]
  },
  {
   "cell_type": "markdown",
   "id": "a6941170-aa41-45fe-aa59-319368a794e7",
   "metadata": {},
   "source": [
    "$$\\overline{X} =\\frac {1}{n} \\sum_{i=1}^{n} X_{i} $$"
   ]
  },
  {
   "cell_type": "markdown",
   "id": "3a8b5cba-c5ed-444c-a8d9-b75c2d11f7e9",
   "metadata": {},
   "source": [
    "__Métodos resistentes__\n",
    "\n",
    "Estos métodos se caracterizan por no estar afectados por una pequeña muestra de datos de tipo outliers “ valores especialmente distintos a los de más datos de la muestra”\n",
    "Lo cual resulta importante si el outliers es un error, como al transcribir los datos. Así también se tiene que el promedio no representa un valor resistente que caracteriza un valor central (CD).\n",
    "\n",
    "\n",
    " Acontinuaciòn se mostrará un ejemplo que refleja la robustez, resistencia con la median y la falta de estos criterios con el promedio o media aritmetica.\n"
   ]
  },
  {
   "cell_type": "markdown",
   "id": "957a0261-4efd-423d-93ee-e52be7d008bf",
   "metadata": {},
   "source": [
    "Una medida de tendencia central que si tiene robustez y resistencia es es la mediana ya que además es una medida de localización la cual se ubica en el cuantil $q_{o.5}$.\n",
    "La mediana se calcula de una manera cunado los datos son pares y de otra cuando son impares.\n",
    "\n",
    "Para el caso de Par tenemos:\n",
    "\n",
    "$$\\widetilde {X} = X*\\frac{n + 1}{2}  ̂$$\n",
    "\n",
    "\n",
    "Para la situacion de datos impares la formulas es la siguiente:\n",
    "\n",
    "$$\\widetilde {X} = \\frac{1}{2}*(X*\\frac{n }{2} + X*\\frac{n }{2} + 1)̂$$"
   ]
  },
  {
   "cell_type": "code",
   "execution_count": null,
   "id": "04800ae0-bd36-4b6b-9eac-b26bed696389",
   "metadata": {},
   "outputs": [],
   "source": [
    "__Ejemplo__ __Madia__\n",
    "\n",
    "Tenemos los siguientes datos que correspodena numeros de 3 en 3, del 1 al 27.\n",
    "\n",
    "Datos Pares\n",
    "\n",
    "Caso sin error [1, 3, 6, 9, 12, 15, 18, 21, 24, 27]\n",
    "\n",
    "Caso error de digitacion [1, 3, 6, 9, 12, 15, 18, 21, 24, 72]\n"
   ]
  },
  {
   "cell_type": "code",
   "execution_count": 26,
   "id": "09f7dd76-fb84-4198-93a7-6517581fe7a2",
   "metadata": {},
   "outputs": [
    {
     "name": "stdout",
     "output_type": "stream",
     "text": [
      "The mean is Caso sin error = 13.6\n",
      "The mean is Caso error de digitacion = 18.1\n"
     ]
    }
   ],
   "source": [
    "import statistics\n",
    "\n",
    "Caso_sin_error = [1, 3, 6, 9, 12, 15, 18, 21, 24, 27]\n",
    "\n",
    "print(\"The mean is Caso sin error =\",statistics.mean(Caso_sin_error))\n",
    "\n",
    "\n",
    "Caso_error_de_digitacion = [1, 3, 6, 9, 12, 15, 18, 21, 24, 72]\n",
    "\n",
    "print(\"The mean is Caso error de digitacion =\",statistics.mean(Caso_error_de_digitacion))\n"
   ]
  },
  {
   "cell_type": "markdown",
   "id": "54da167c-cc15-43c6-8cf1-a626613c22cb",
   "metadata": {},
   "source": [
    "__Ejemplo Mediana__\n",
    "\n",
    "Tenemos los siguientes datos que correspodena numeros de 4 en 4, del 1 al 48.\n",
    "\n",
    "Datos Inpares\n",
    "\n",
    "Caso sin error (1, 4, 8, 12, 16, 20, 24, 28, 32, 36, 40, 44, 48)\n",
    "\n",
    "Caso error de digitacion (1, 4, 8, 12, 16, 20, 24, 28, 32, 36, 40, 44, 84 )"
   ]
  },
  {
   "cell_type": "code",
   "execution_count": 23,
   "id": "bdabcc5c-6dd8-4741-b6ef-9de6c0cd2fcf",
   "metadata": {},
   "outputs": [
    {
     "name": "stdout",
     "output_type": "stream",
     "text": [
      "The mean is Caso sin error = 24\n",
      "The mean is Caso error de digitacion = 24\n"
     ]
    }
   ],
   "source": [
    "Caso_sin_error = [1, 4, 8, 12, 16, 20, 24, 28, 32, 36, 40, 44, 48]\n",
    "\n",
    "print(\"The mean is Caso sin error =\",statistics.median(Caso_sin_error))\n",
    "\n",
    "\n",
    "Caso_error_de_digitacion = [1, 4, 8, 12, 16, 20, 24, 28, 32, 36, 40, 44, 84]\n",
    "\n",
    "print(\"The mean is Caso error de digitacion =\",statistics.median(Caso_error_de_digitacion))\n"
   ]
  },
  {
   "cell_type": "markdown",
   "id": "63c4a728-8488-4a4b-aa5a-9c0a4d7aa336",
   "metadata": {},
   "source": [
    "__Como se puede evidenciar la mediana comple con los dos criterios.__\n",
    "\n",
    "Bibliografia:\n",
    "\n",
    "[blue_text] (https://www.google.com/url?sa=t&rct=j&q=&esrc=s&source=web&cd=&cad=rja&uact=8&ved=2ahUKEwiz_snunfL6AhVBczABHdCoAKEQFnoECCkQAQ&url=https%3A%2F%2Frepository.udistrital.edu.co%2Fbitstream%2Fhandle%2F11349%2F16304%2FSierra_S_Leidy_G.pdf%3Fsequence%3D1%26isAllowed%3Dy&usg=AOvVaw3mICv_ELpRdWlzTrANoqnG)\n",
    "\n",
    "[blue_text] (https://www.google.com/url?sa=t&rct=j&q=&esrc=s&source=web&cd=&cad=rja&uact=8&ved=2ahUKEwiz_snunfL6AhVBczABHdCoAKEQFnoECCgQAQ&url=https%3A%2F%2Fdlprivateserver.com%2Felden-ring-todas-las-estadisticas-explicadas%2F&usg=AOvVaw3xJHqjceIdteKUixynzr4p)"
   ]
  },
  {
   "cell_type": "code",
   "execution_count": null,
   "id": "3fe758f9-dcf6-4ecc-916c-aed8e4e914ae",
   "metadata": {},
   "outputs": [],
   "source": []
  }
 ],
 "metadata": {
  "kernelspec": {
   "display_name": "Python 3",
   "language": "python",
   "name": "python3"
  },
  "language_info": {
   "codemirror_mode": {
    "name": "ipython",
    "version": 3
   },
   "file_extension": ".py",
   "mimetype": "text/x-python",
   "name": "python",
   "nbconvert_exporter": "python",
   "pygments_lexer": "ipython3",
   "version": "3.9.12"
  }
 },
 "nbformat": 4,
 "nbformat_minor": 5
}
