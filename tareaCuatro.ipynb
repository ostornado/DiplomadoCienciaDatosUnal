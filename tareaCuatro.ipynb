{
 "cells": [
  {
   "cell_type": "markdown",
   "id": "ccc4082a-9a2f-4d02-a490-242e2130e067",
   "metadata": {},
   "source": [
    "<img src = 'logounal.png'"
   ]
  },
  {
   "cell_type": "markdown",
   "id": "77c0bfba-56cc-42a1-83d9-f0f351fb7290",
   "metadata": {},
   "source": [
    "# __Aplicativo__ __en__ __red__ __para__ __análisis__ __de__ __datos__ __climáticos__ __que__ __sirva__ __en__  __la__ __toma__ __decisiones__ __en__ __cultivos__ __de__ __arroz__ __en__ ___Tolima__ __y__ __Huila.__ \n",
    "\n",
    "## __Óscar__ __Eduardo__ __Rodríguez__\n",
    "\n",
    "### Universidad Nacional de Colombia\n",
    "### Diplomado en Ciencia de datos\n",
    "### Bogotá, Colombia\n",
    "#### 2022"
   ]
  },
  {
   "cell_type": "markdown",
   "id": "44cdab80-d541-41fe-8689-77c6c66400ad",
   "metadata": {},
   "source": [
    "__Introducción__ \n",
    "\n",
    "Este proyecto e realizará con la creación de una herramienta ofimática que recolecta datos de un modelo de los varios dedicados a la comprensión de la atmósfera como ERA5, MERRA2, INTERIM por ejemplo, el modelo elegido contrastara su información  con datos de estaciones del Instituto de Hidrología, Meteorología y Estudios Ambientales (IDEAM),con la finalidad de obtener nueva información que represente mejor las posibles situaciones por efecto de fenómenos atmosféricos que se puedan presentar en una zona de estudio determinada, ademas se pretende crear una herramienta que permita la recrear con un modelo escenarios posibles y obtener una  predicción del tiempo atmosférico de tres días y del clima información mensual. \n",
    "La finalidad es lograr un alcance información del comportamiento del tiempo y del clima de manera más inmediata con lo cual le permite actuar para tomar decisiones para el manejo del cultivo de arroz, logrando disminuir el riesgo agroclimático que pueda tener el cultivo en  sus diferentes etapas.\n",
    "En el proceso de elaboración de esta herramienta se hace necesario el uso de varios programas computacionales para distintos fines, como lo son el control de calidad de la información obtenida de estaciones meteorológicas del IDEAM, así como para la información obtenida de los diferentes modelos de los cuales se usará información meteorológica programas como excel, Rstudio, o Python son eficientes para está tarea."
   ]
  },
  {
   "cell_type": "markdown",
   "id": "7b235793-d211-4a94-b52d-c21cabbd6c3a",
   "metadata": {},
   "source": [
    "__Planteamiento__ __del__ __problema__\n",
    "\n",
    "\n",
    "México cuenta con 76 sistemas de riego, en el año 2005 se presentó una un innovador estudio que tenía como objetivo el realizar una aplicación computacional la cual se ejecuta dentro de la plataforma del Instituto Nacional de Investigación Forestal, Agrícolas y Pecuarias (INIFAP), dicha aplicación se puede ejecutar interactivamente por cualquier usuario ya que trabaja a través de la red de internet.\n",
    "Pero lo importante de esta aplicación es que sirve de herramienta para el sistema agropecuario de este país debido a que determina las demandas de agua que se puedan presentar en el sistema agropecuario que realice el usuario, es decir ayuda a saber cuando y cuanta es la necesidad hídrica del sistema(Valencia et al., 2005). Aplicación computacional en red para la estimación de las demandas de agua y la calendarización de los riesgos de los cultivos en los distritos de riego del país. III. PRODUCCIÓN AGRÍCOLA, 51.).\n",
    "\n",
    "Es innegable que las tecnologías de la información y telecomunicaciones (TIC) tiene cada vez más usos, lo que ha permitido un gran avance. Los sistemas de predicción del tiempo, sistemas agropecuarios no son la excepción, en tal sentido la investigación realizada por (Pérez et al., 2006). Impacto de las tecnologías de la información y la comunicación en la agricultura. Cultivos tropicales, encontrando una visión de cómo las (TIC) generarán y presentarán una revolución  en la forma de ver y tratar la información del tiempo, el clima y cómo este evento puede influir en las actividades agropecuarias. \n",
    "\n",
    "En el año 2009 se presentó un trabajo que analizó las series de clima mensual  entre los años 1970 a 1999 usando información de diferentes variables meteorológicas, el Índice de Oscilación del Sur (IOS) e Índice Multivariado de El Niño Oscilación del Sur (MEI). con el fin de generar dos Índices del Clima en local en las zonas agrícolas de Manabí y Guayas-Los Ríos Ecuador. Estos índices se construyeron usando la técnica de Componentes Principales que consiste en usar los datos de los Índices (IOS) y (MEI), se definen los meses con mayor intensidad, así como los meses sin el fenómeno, de eventos El Niño en los años comprendidos entre 1991 a 1998  la información de la distribución espacial de excedentes de precipitación sobre las zonas de estudio, en los meses de máxima intensidad de estos fenómenos  se calculó con el Sistema de Información Geográfica Arc View. Este trabajo se realizó con el propósito de generar mapas con áreas que pudieron estar en riesgo Agroclimático en cultivos como Arroz y maíz(Nolivos et al., 2009).\n",
    "\n",
    "Cada vez más se emplean las (TIC) en el desarrollo de herramientas para manejo, control, entendimiento de sistemas que dependen del tiempo y clima. Como el estudio de (Lindao Díaz et al., 2010). Desarrollo de una aplicación informática que utilice modelos Probit y Logit para la determinación del efecto de productos sobre Mycosphaerella fijiensis (Bachelor's thesis, Espol).). Quien desarrolló una aplicación ofimática que hace un análisis estadístico de estudios de sensibilidad que genera el Centro de Investigaciones Biotecnológicas del Ecuador (CIBE), con la intención de centralizar la información obtenida la cual se usa para establecer dosis y el momento de aplicación de fungicidas  que se debe aplicar a cultivos de banano para controlar y mitigar los efectos del Mycosphaerella fijiensis.\n",
    "\n",
    "El uso de aplicaciones ofimáticas para gestionar la información meteorológica y que esta sea de gran alcance, pueda ser empleada en el manejo de cultivos fue la propuesta de (Baquero Sandoval, 2013). Con la intención de realizar un control de plagas y enfermedades en cultivos de frutilla, que fuese de fácil acceso por parte de los campesinos debido a esto la aplicación corre en dispositivos móviles inteligentes. \n",
    "\n",
    "El agua es un factor determinante para la mayoría de cultivos, es por tal motivo que en el estado de Zacatecas, México se creó un sistema en línea, con la finalidad de ser usado en los sistemas de riego de esta zona, en la mejora del uso de los recursos hídricos en cultivos de ajo, frijol, maíz y chile. El sistema usa el balance hídrico climático y mediante  la  información recogida por 36 estaciones agroclimáticas las cuales son automáticas y se distribuyen por todo el estado de Zacatecas, el programa ofimático se ejecuta en internet y se programó en lenguaje PHP y HTML para la creación de un sitio web dinámico(Servín Palestina et al., 2017). Sistema para programar y calendarizar el riego de los cultivos en tiempo real. Revista mexicana de ciencias agrícolas, 8(2), 423-430.).\n",
    "\n",
    "\n",
    "La implementación de las nuevas tecnologías en el área agrícola son cada vez más comunes en el estudio que presentó Gómezet al., 2017). Busco usar el Internet de las cosas (IoT) y sistemas embebidos en monitoreo de cultivos protegidos, por medio de programa que toma información de variables que producen efectos en el desarrollo de los cultivos, esta información son enviados a un servidor para ser procesados para luego ser descargados por los usuarios que podrán tomar decisiones de manejo de los cultivos. \n",
    "\n",
    "El desarrollo de aplicaciones cambiará la manera en que se manejan los cultivos y pasará a realizar una agricultura de precisión que deje atrás la manera convencional (Torres Pacheco, 2018).\n",
    "Su contribución se reflejó en la creación de una herramienta con inteligencia artificial que se basa en aprendizaje dinámico en tiempo real, mediante una aplicación Android para uso en dispositivos móviles y de cómputo. La finalidad del estudio fue incrementar el rendimiento y la calidad en cultivos de Pitahaya, mediante el monitoreo de varias variables meteorológicas que influyen en la producción de esta fruta. Esta tarea de monitoreo se realizó con  la ayuda de la tarjeta de desarrollo arduino y con el uso de circuitos integrados microcontroladores (PIC), además de sensores y actuadores que permiten la obtención y transformación de las señales de entrada generadas por las variables meteorológicas (Torres Pacheco, 2018).\n",
    "\n",
    "La telemetría es una herramienta que ayuda a monitorizar y controlar de manera remota procesos a distancias considerables. En el campo agropecuario la telemetría tiene un uso relativamente reciente, pero ha demostrado resultados significativos (Capraro  et al., 2018). \n",
    "\n",
    "El Estudio realizado por (Capraro  et al., 2018).Consistió en el desarrollo de un sistema Telemétrico Agrícola basado en información de estaciones meteorológicas fijas y móviles dentro de la zona de cultivo a analizar. Sumado a esto se trabajaron  varios módulos informáticos para procesar los datos tomados de las estaciones meteorológicas. La finalidad del estudio fue tener información en tiempo real de los cultivos y con esto se poder realizar un riego más eficiente, con ayuda de información del comportamiento del tiempo y el clima. En este trabajo se realizó con ayuda de tecnologías (TIC), sumado un entorno gráfico y de fácil acceso a los usuarios finales es decir campesinos y habitantes de la zona de estudio. \n",
    "\n",
    "El Internet de las cosas y uso en el sector agropecuario son cada vez más innovadores por tal motivo se hace importante analizarlas con la intención de establecer cuales de estas tecnologías que se vienen incorporando son las más adecuadas para el gremio (Soto et al., 2019). Este análisis de las tecnologías se  presentó en para  latino América concentrándose principalmente en Colombia, trazando entre sus objetivos el establecer cuales son las tecnologías más aplicadas en el país.\n",
    "\n",
    "La escasez de agua en varias regiones del planeta ha puesto en aprietos la producción agrícola en estos lugares como la provincia de San Juan en Argentina (Capraro y Tosetti, 2020). Es por estos motivos que el realizar estudios que permitan hacer uso de las nuevas tecnologías en los sistemas agropecuarios es de suma importancia en el manejo de riego como el realizado en argentina por los autores antes mencionados en este párrafo.\n",
    "\n",
    "Para Ecuador el cultivo de arroz de suma importancia es tal que es el de mayor área cultivada, hace parte de la dieta diaria de sus habitantes y es uno de sus productos más exportados. Pese a que el arroz en este país tiene una favorabilidad en cuanto a las tierras cultivadas y que el clima es óptimo su producción por hectárea (ha) no es tan rentable como lo es en otros países  de la región (Quinche Quinche y Merino Galeas, 2021). El bajo rendimiento se atribuye principalmente al uso de variedades con que pueden verse afectadas por enfermedades y la poca utilización de semillas certificadas.\n",
    "Por estas situaciones es que (Quinche Quinche y Merino Galeas, 2021). Propone el desarrollo de una herramienta ofimática con el fin de que sea usada para el manejo de plagas y enfermedades en cultivos de arroz."
   ]
  },
  {
   "cell_type": "markdown",
   "id": "e9074902-fd36-4ac2-aac3-90bd2ed3cd69",
   "metadata": {},
   "source": [
    "__Bibliografia__\n",
    "\n",
    "Baquero Sandoval,  (2013). Sistema para el control de plagas y enfermedades en cultivos de frutilla, utilizando dispositivos móviles para la recolección de datos, y generando un plano de control de cultivo dinámico (Bachelor's thesis, Quito: Universidad Israel, 2013). Recuperado de http://repositorio.uisrael.edu.ec/handle/47000/471\n",
    "\n",
    "Capraro, Tosetti, y Mut,  (2018). Telemetría Agrícola. In Un acercamiento hacia las nuevas tecnologías disponibles en riego de precisión. X Congreso Argentino de Agroinformática, 47º JAIIO. Buenos Aires. Argentina. Recuperado de https://inta.gob.ar/sites/default/files/telemetria_agricola_cai2018_ppt.pdf\n",
    "\n",
    "Capraro, F., & Tosetti, S. (2020). Herramientas modernas de gestión en riego de precisión basadas en dispositivos electrónicos, programas informáticos y técnicas de control automático. Electronic Journal of SADIO (EJS), 19(1), 5-32. Recuperado de https://publicaciones.sadio.org.ar/index.php/EJS/article/download/154/140\n",
    "\n",
    "Gómez, J. E., Castaño, S., Mercado, T., Fernandez, A., & Garcia, J. (2017). Sistema de internet de las cosas (IoT) para el monitoreo de cultivos protegidos. Ingeniería e Innovación, 5(1). Recuperado de https://revistas.unicordoba.edu.co/index.php/rii/article/view/1101\n",
    "\n",
    "Lindao Díaz y Sánchez,  (2010). Desarrollo de una aplicación informática que utilice modelos probit y logit para la determinación del efecto de productos sobre mycosphaerella fijiensis (Bachelor's thesis, Espol).  Recuperado de https://www.dspace.espol.edu.ec/handle/123456789/16752\n",
    "\n",
    "Pérez, A., Milla, M., y Mesa, M. (2006). Impacto de las tecnologías de la información y la comunicación en la agricultura. Cultivos tropicales, 27(1), 11-17. Recuperado de https://www.redalyc.org/pdf/1932/193215885002.pdf\n",
    "\n",
    "Quinche Quinche, y Merino Galeas,  (2021). Desarrollo de un prototipo tecnológico para sistematizar el manejo integrado de plagas en el cultivo de arroz del recinto El Cocal de la ciudad de Daule (Doctoral dissertation, Universidad de Guayaquil. Facultad de Ciencias Matemáticas y Físicas. Carrera de Ingeniería en Networking y Telecomunicaciones). Recuperado de http://repositorio.ug.edu.ec/handle/redug/57646\n",
    "\n",
    "Nolivos Álvarez, y Santos Davila, (2009). Estudio del impacto de los eventos El Niño 1991-1992 y 1997-1998 sobre los rendimientos de cultivos de arroz y maíz en el litoral ecuatoriano.  Recuperado de https://www.dspace.espol.edu.ec/handle/123456789/1823\n",
    "\n",
    "Servín Palestina,  Tijerina Chávez, Medina García, Palacios Velez, y Flores Magdaleno,  (2017). Sistema para programar y calendarizar el riego de los cultivos en tiempo real. Revista mexicana de ciencias agrícolas, 8(2), 423-430. Recuperado de http://www.scielo.org.mx/scielo.php?pid=S2007-09342017000200423&script=sci_arttext\n",
    "\n",
    "Torres Pacheco, G. A. (2018). Desarrollo de una aplicación web y móvil basada en machine learning, para monitoreo, registro y control de temperatura y humedad en el cultivo de la pitahaya. Recuperado de http://201.159.223.180/handle/3317/11774\n",
    "\n",
    "Tovar Soto, Solórzano Suárez,  de los  Badillo Rodríguez,  y Rodríguez Cainaba,  (2019). Internet de las cosas aplicado a la agricultura: estado actual. Lámpsakos, (22), 86–105. https://doi.org/10.21501/21454086.3253\n",
    "\n",
    "Valencia, E. , Cohen, I. , Castorena, M. , Ibarra, M. , y Moreno, S. (2005). Aplicación computacional en red para la estimación de las demandas de agua y la calendarización de los riegos de los cultivos en los distritos de riego del país. III. PRODUCCIÓN AGRÍCOLA, 51.  Recuperado de https://www.academia.edu/download/31101152/5-3.pdf#page=54.\n",
    "\n"
   ]
  },
  {
   "cell_type": "code",
   "execution_count": null,
   "id": "87863f2f-20c1-4c5d-a869-dfdfc74a1922",
   "metadata": {},
   "outputs": [],
   "source": []
  }
 ],
 "metadata": {
  "kernelspec": {
   "display_name": "Python 3",
   "language": "python",
   "name": "python3"
  },
  "language_info": {
   "codemirror_mode": {
    "name": "ipython",
    "version": 3
   },
   "file_extension": ".py",
   "mimetype": "text/x-python",
   "name": "python",
   "nbconvert_exporter": "python",
   "pygments_lexer": "ipython3",
   "version": "3.9.12"
  }
 },
 "nbformat": 4,
 "nbformat_minor": 5
}
